{
 "cells": [
  {
   "cell_type": "code",
   "execution_count": 10,
   "id": "35b8e608",
   "metadata": {
    "scrolled": true
   },
   "outputs": [
    {
     "name": "stdout",
     "output_type": "stream",
     "text": [
      "too oruul:3\n",
      "*\n",
      "**\n",
      "***\n"
     ]
    }
   ],
   "source": [
    "#Даалгавар. Дараах кодыг бичнэ үү.\n",
    "#1. Гараас оруулсан n тоо хүртэл “*” тэмдэгтийг мөр бүрд хэвлэх функц бич. \n",
    "def od(n):\n",
    "    return ['*' * i for i in range(1, n + 1)]\n",
    "n = int(input(\"too oruul:\"))\n",
    "jagsaalt = od(n)\n",
    "for x in jagsaalt:\n",
    "    print(x)\n",
    "\n",
    "            "
   ]
  },
  {
   "cell_type": "markdown",
   "id": "ecb8a742",
   "metadata": {},
   "source": []
  },
  {
   "cell_type": "code",
   "execution_count": 11,
   "id": "5b096509",
   "metadata": {},
   "outputs": [
    {
     "name": "stdout",
     "output_type": "stream",
     "text": [
      "too oruul: 3\n",
      "*\n",
      "**\n",
      "***\n"
     ]
    }
   ],
   "source": [
    "#Гараас оруулсан n тоо хүртэл “*” тэмдэгтийг жагсаалтын мөр бүрд хэвлэх функц бич.\n",
    "\n",
    "def odnuud(n):\n",
    "    for i in range(1, n + 1):\n",
    "        print('*' * i)\n",
    "n = int(input(\"too oruul: \"))\n",
    "odnuud(n)"
   ]
  },
  {
   "cell_type": "code",
   "execution_count": 15,
   "id": "2b692171",
   "metadata": {},
   "outputs": [
    {
     "name": "stdout",
     "output_type": "stream",
     "text": [
      "('Oyun', 'Bat')\n"
     ]
    }
   ],
   "source": [
    "# 3. Дараах жагсаалтаас хамгийн их, хамгийн бага key-г авах функц бич.\n",
    "students = {\n",
    "    'Bat': 18, \n",
    "    'Oyun': 22, \n",
    "    'Dulam': 21, \n",
    "    'Suren': 20}\n",
    "ih = max(students, key=students.get)\n",
    "baga = min(students, key=students.get)\n",
    "a = (ih, baga)\n",
    "print(a)"
   ]
  },
  {
   "cell_type": "code",
   "execution_count": 14,
   "id": "dfe62679",
   "metadata": {},
   "outputs": [
    {
     "name": "stdout",
     "output_type": "stream",
     "text": [
      "214216\n"
     ]
    }
   ],
   "source": [
    "# 4.. np.arange(1-1000) массив үүсгэ. Тухайн массиваас 3 эсвэл 7 –д хуваагдах тоонуудын нийлбэрийг ол.\n",
    "import numpy as np\n",
    "a = np.arange(1, 1000)\n",
    "b = a[(a % 3 == 0) | (a % 7 == 0)]\n",
    "print(b.sum())"
   ]
  },
  {
   "cell_type": "code",
   "execution_count": null,
   "id": "5c7c578b",
   "metadata": {},
   "outputs": [],
   "source": []
  }
 ],
 "metadata": {
  "kernelspec": {
   "display_name": "Python 3 (ipykernel)",
   "language": "python",
   "name": "python3"
  },
  "language_info": {
   "codemirror_mode": {
    "name": "ipython",
    "version": 3
   },
   "file_extension": ".py",
   "mimetype": "text/x-python",
   "name": "python",
   "nbconvert_exporter": "python",
   "pygments_lexer": "ipython3",
   "version": "3.9.12"
  }
 },
 "nbformat": 4,
 "nbformat_minor": 5
}
